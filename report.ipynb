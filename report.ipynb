{
 "cells": [
  {
   "attachments": {},
   "cell_type": "markdown",
   "metadata": {},
   "source": [
    "# Best Flights: a study of the change in flight price\n",
    "\n",
    "# Introduction\n",
    "\n",
    "Everyone wants to find the cheapest option for their next purchase, whether it is the hottest new tech, or a new christmas sweater for the holidays. In my case, I want to focus on exploring flight prices.\n",
    "\n",
    "Flight prices intrigue me as an area of research as it is applicable to many. There were an estimated 22.2 million flights in the year of 2021, and as the affects of COVID on the airline industry slowly subside this number will only grow as people start getting back into travel. With this amount of travel and an inevitable increase, I hope to be able to use data to find the cheapest way to purchase flights in an attempt to shed light on the flight booking industry and help people get the most out of their money.\n",
    "\n",
    "# Aims and Objectives\n",
    "\n",
    "I aim to find the cheapest time to fly, by examining flight prices from flight booking websites and comparing different factors.\n",
    "\n",
    "Some of the questions I have chosen to focus on are:\n",
    "\n",
    "-   Which day of the week is it cheapest to fly?\n",
    "-   Which month of the year is it cheapest to fly?\n",
    "-   How many days in advance should you book?\n",
    "\n",
    "# Data\n",
    "\n",
    "To find the cheapest flight opportunities I have chosen to web scrape a flight booking service's prices. Data will be acquired through the flight booking service named skiplagged. This service provides great url-based flight data and allows simple web scraping through html attributes. I have tried two other services, Expedia and Kayak, but both had protections preventing web scraping such as dynamic selectors.\n",
    "\n",
    "To analyze this data I will create easy to read charts that anyone who is familiar with flying will understand. An example for finding the day of week would be a bar chart for the average of flight prices in that day.\n",
    "\n",
    "### Flight Locations\n",
    "\n",
    "The flight locations I have chosen to focus on are:\n",
    "- Toronto, Canada to London, England\n",
    "\n",
    "These locations are of interest to me as I live in Toronto and go to school in London as well as have family in London.\n",
    "\n",
    "### Format of Requests:\n",
    "\n",
    "https://skiplagged.com/flights/YTO/LON/2022-12-20\n",
    "- YTO - flight start location (Toronto)\n",
    "- LON - flight end location (London)\n",
    "- 2022-12-20 - date\n",
    "\n",
    "### Data Ethics\n",
    "\n",
    "As previously described the data is coming from a website named Skiplagged. According to the websites \"Use License\" in the terms and conditions, permission is granted to view one copy of the materials for personal, non-commercial use. Assuming this means one copy of each material (date, flights, etc) this project should not breach the terms and conditions.\n",
    "\n",
    "### Data Biases\n",
    "\n",
    "As with any data there is a potential for biases. With flight prices the data can be skewed based on the website, potential advertising, and the place in the world you are trying to go. However I feel these biases will not skew the data in any remarkable way, but it is important to understand them.\n",
    "\n"
   ]
  },
  {
   "attachments": {},
   "cell_type": "markdown",
   "metadata": {},
   "source": [
    "# Web Scraping Flights\n",
    "\n",
    "### Main Tools\n",
    "\n",
    "- Selenium - Used to create a fake browser and render each page fully before retrieving the HTML\n",
    "- BeautifulSoup - Used to scrape the prices from the HTML\n",
    "- Pandas - Used to store data in table and create charts from it\n",
    "- Numpy - Used to create a mean value from the outputed flight prices\n",
    "\n",
    "### How\n",
    "\n",
    "1. Check if there is previous data and use that if it exists\n",
    "2. Loop through each date on the chrome selenium driver\n",
    "\t1. Wait for page load\n",
    "\t2. Grab HTML in BeautifulSoup\n",
    "\t3. Select the prices based on a price css selector\n",
    "\t4. Clean each price to be a float and mean out the values\n",
    "\t5. Add date, mean price, day, and month to pandas dataframe\n",
    "3. Store to DataFrame if data does not exist"
   ]
  },
  {
   "cell_type": "code",
   "execution_count": 1,
   "metadata": {},
   "outputs": [],
   "source": [
    "# Importing the necessary libraries\n",
    "from bs4 import BeautifulSoup\n",
    "from selenium import webdriver\n",
    "import pandas as pd\n",
    "from datetime import date, datetime, timedelta\n",
    "import numpy as np\n",
    "import os\n",
    "import matplotlib as mpl\n",
    "import matplotlib.pyplot as plt\n"
   ]
  },
  {
   "cell_type": "code",
   "execution_count": 13,
   "metadata": {},
   "outputs": [
    {
     "data": {
      "text/html": [
       "<div>\n",
       "<style scoped>\n",
       "    .dataframe tbody tr th:only-of-type {\n",
       "        vertical-align: middle;\n",
       "    }\n",
       "\n",
       "    .dataframe tbody tr th {\n",
       "        vertical-align: top;\n",
       "    }\n",
       "\n",
       "    .dataframe thead th {\n",
       "        text-align: right;\n",
       "    }\n",
       "</style>\n",
       "<table border=\"1\" class=\"dataframe\">\n",
       "  <thead>\n",
       "    <tr style=\"text-align: right;\">\n",
       "      <th></th>\n",
       "      <th>date</th>\n",
       "      <th>day</th>\n",
       "      <th>month</th>\n",
       "      <th>price</th>\n",
       "    </tr>\n",
       "  </thead>\n",
       "  <tbody>\n",
       "    <tr>\n",
       "      <th>0</th>\n",
       "      <td>2023-01-01</td>\n",
       "      <td>7</td>\n",
       "      <td>1</td>\n",
       "      <td>413.384615</td>\n",
       "    </tr>\n",
       "    <tr>\n",
       "      <th>1</th>\n",
       "      <td>2023-01-02</td>\n",
       "      <td>1</td>\n",
       "      <td>1</td>\n",
       "      <td>416.230769</td>\n",
       "    </tr>\n",
       "    <tr>\n",
       "      <th>2</th>\n",
       "      <td>2023-01-03</td>\n",
       "      <td>2</td>\n",
       "      <td>1</td>\n",
       "      <td>321.230769</td>\n",
       "    </tr>\n",
       "    <tr>\n",
       "      <th>3</th>\n",
       "      <td>2023-01-04</td>\n",
       "      <td>3</td>\n",
       "      <td>1</td>\n",
       "      <td>360.153846</td>\n",
       "    </tr>\n",
       "    <tr>\n",
       "      <th>4</th>\n",
       "      <td>2023-01-05</td>\n",
       "      <td>4</td>\n",
       "      <td>1</td>\n",
       "      <td>358.923077</td>\n",
       "    </tr>\n",
       "    <tr>\n",
       "      <th>5</th>\n",
       "      <td>2023-01-06</td>\n",
       "      <td>5</td>\n",
       "      <td>1</td>\n",
       "      <td>363.000000</td>\n",
       "    </tr>\n",
       "    <tr>\n",
       "      <th>6</th>\n",
       "      <td>2023-01-07</td>\n",
       "      <td>6</td>\n",
       "      <td>1</td>\n",
       "      <td>321.538462</td>\n",
       "    </tr>\n",
       "    <tr>\n",
       "      <th>7</th>\n",
       "      <td>2023-01-08</td>\n",
       "      <td>7</td>\n",
       "      <td>1</td>\n",
       "      <td>321.461538</td>\n",
       "    </tr>\n",
       "    <tr>\n",
       "      <th>8</th>\n",
       "      <td>2023-01-09</td>\n",
       "      <td>1</td>\n",
       "      <td>1</td>\n",
       "      <td>290.076923</td>\n",
       "    </tr>\n",
       "    <tr>\n",
       "      <th>9</th>\n",
       "      <td>2023-01-10</td>\n",
       "      <td>2</td>\n",
       "      <td>1</td>\n",
       "      <td>262.538462</td>\n",
       "    </tr>\n",
       "  </tbody>\n",
       "</table>\n",
       "</div>"
      ],
      "text/plain": [
       "         date  day  month       price\n",
       "0  2023-01-01    7      1  413.384615\n",
       "1  2023-01-02    1      1  416.230769\n",
       "2  2023-01-03    2      1  321.230769\n",
       "3  2023-01-04    3      1  360.153846\n",
       "4  2023-01-05    4      1  358.923077\n",
       "5  2023-01-06    5      1  363.000000\n",
       "6  2023-01-07    6      1  321.538462\n",
       "7  2023-01-08    7      1  321.461538\n",
       "8  2023-01-09    1      1  290.076923\n",
       "9  2023-01-10    2      1  262.538462"
      ]
     },
     "execution_count": 13,
     "metadata": {},
     "output_type": "execute_result"
    }
   ],
   "source": [
    "# if prices file exists from previous scrape, read from that file\n",
    "if (os.path.exists(os.getcwd() + \"/prices.csv\")):\n",
    "    price_by_date = pd.read_csv(\"./prices.csv\")\n",
    "else:\n",
    "    # initialize chrome driver\n",
    "    driver = webdriver.Chrome()\n",
    "\n",
    "    def get_avg_price_by_date(start_place, end_place, date):\n",
    "        # create url from search parameters\n",
    "        url = \"https://skiplagged.com/flights/\" + \\\n",
    "            start_place + \"/\" + end_place + \"/\" + date\n",
    "        # initialize browser with url\n",
    "        driver.get(url)\n",
    "        # sleep to load dynamic content\n",
    "        time.sleep(8)\n",
    "        # create soup\n",
    "        soup = BeautifulSoup(driver.page_source, 'html.parser')\n",
    "        # select prices and clean text to float number list\n",
    "        prices = soup.select(\"[data-orig-price]\")\n",
    "        prices = [float(price.get_text()[1:]) for price in prices]\n",
    "        # return mean\n",
    "        return np.mean(prices)\n",
    "\n",
    "    # template for dataframe\n",
    "    data = {\n",
    "        \"date\": [],\n",
    "        \"day\": [],\n",
    "        \"week\": [],\n",
    "        \"month\": [],\n",
    "        \"price\": [],\n",
    "    }\n",
    "\n",
    "    # create date range\n",
    "    date_range = pd.date_range(start='2023-01-01', end='2023-06-30')\n",
    "\n",
    "    # loop through dates in range\n",
    "    for date in date_range:\n",
    "        format_date = date.strftime(\"%Y-%m-%d\")\n",
    "        # get average price\n",
    "        avg_price = get_avg_price_by_date(\"YTO\", \"LON\", format_date)\n",
    "        # append cleaned data to dictionary\n",
    "        data[\"date\"].append(format_date)\n",
    "        data[\"price\"].append(avg_price)\n",
    "        data[\"day\"].append(date.isoweekday())\n",
    "        data[\"month\"].append(date.strftime(\"%m\"))\n",
    "        data[\"month\"].append(date.isocalendar()[1])\n",
    "\n",
    "    # create dataframe\n",
    "    price_by_date = pd.DataFrame(data)\n",
    "    # change index to date\n",
    "    price_by_date.set_index(\"date\", inplace=True)\n",
    "\n",
    "    # save to csv for quick use\n",
    "    price_by_date.to_csv(\"./prices.csv\")\n",
    "\n",
    "    # close driver\n",
    "    driver.quit()\n",
    "\n",
    "# First ten rows of data\n",
    "price_by_date.head(10)\n"
   ]
  },
  {
   "attachments": {},
   "cell_type": "markdown",
   "metadata": {},
   "source": [
    "## Day of the week\n",
    "\n",
    "This plot shows how the day of the week affects the flight price. Day 1 (Monday) to Day 7 (Sunday)."
   ]
  },
  {
   "cell_type": "code",
   "execution_count": null,
   "metadata": {},
   "outputs": [
    {
     "data": {
      "text/plain": [
       "<AxesSubplot: xlabel='day of week', ylabel='average price'>"
      ]
     },
     "execution_count": 18,
     "metadata": {},
     "output_type": "execute_result"
    },
    {
     "data": {
      "image/png": "[encoded data removed]",
      "text/plain": [
       "<Figure size 640x480 with 1 Axes>"
      ]
     },
     "metadata": {},
     "output_type": "display_data"
    }
   ],
   "source": [
    "# bar plot by day of week\n",
    "price_by_date[1:176].groupby(['day'])['price'].mean().plot(\n",
    "    kind=\"bar\", xlabel=\"day of week\", ylabel=\"average price\")"
   ]
  },
  {
   "attachments": {},
   "cell_type": "markdown",
   "metadata": {},
   "source": [
    "Here we can see that tuesday (2) is the cheapest with friday (5) being the most expensive."
   ]
  },
  {
   "cell_type": "code",
   "execution_count": null,
   "metadata": {},
   "outputs": [
    {
     "data": {
      "text/plain": [
       "<AxesSubplot: xlabel='month'>"
      ]
     },
     "execution_count": 16,
     "metadata": {},
     "output_type": "execute_result"
    },
    {
     "data": {
      "image/png": "[encoded data removed]",
      "text/plain": [
       "<Figure size 640x480 with 1 Axes>"
      ]
     },
     "metadata": {},
     "output_type": "display_data"
    }
   ],
   "source": [
    "# bar plot by month\n",
    "price_by_date[0:181].groupby(['month'])['price'].mean().plot(kind=\"bar\")\n",
    "\n",
    "# Assumed there would be a drop in pice month by month the farther you go away, but instead is correlated to month seasons\n"
   ]
  },
  {
   "attachments": {},
   "cell_type": "markdown",
   "metadata": {},
   "source": [
    "# Resources\n",
    "\n",
    "-   https://financesonline.com/number-of-flights-worldwide/\n",
    "- https://skiplagged.com/terms\n",
    "\n",
    "### Tech\n",
    "\n",
    "-   https://pandas.pydata.org/docs/index.html\n"
   ]
  }
 ],
 "metadata": {
  "kernelspec": {
   "display_name": "Python 3",
   "language": "python",
   "name": "python3"
  },
  "language_info": {
   "codemirror_mode": {
    "name": "ipython",
    "version": 3
   },
   "file_extension": ".py",
   "mimetype": "text/x-python",
   "name": "python",
   "nbconvert_exporter": "python",
   "pygments_lexer": "ipython3",
   "version": "3.10.8 (main, Nov  1 2022, 14:18:21) [GCC 12.2.0]"
  },
  "orig_nbformat": 4,
  "vscode": {
   "interpreter": {
    "hash": "e7370f93d1d0cde622a1f8e1c04877d8463912d04d973331ad4851f04de6915a"
   }
  }
 },
 "nbformat": 4,
 "nbformat_minor": 2
}
