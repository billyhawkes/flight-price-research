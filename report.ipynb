{
 "cells": [
  {
   "cell_type": "code",
   "execution_count": 26,
   "metadata": {},
   "outputs": [],
   "source": [
    "# Importing the necessary libraries\n",
    "from bs4 import BeautifulSoup\n",
    "from selenium import webdriver\n",
    "import pandas as pd\n",
    "from datetime import date, datetime, timedelta\n",
    "import numpy as np\n"
   ]
  },
  {
   "cell_type": "code",
   "execution_count": 27,
   "metadata": {},
   "outputs": [
    {
     "name": "stderr",
     "output_type": "stream",
     "text": [
      "/home/billy/.local/lib/python3.10/site-packages/numpy/core/fromnumeric.py:3432: RuntimeWarning: Mean of empty slice.\n",
      "  return _methods._mean(a, axis=axis, dtype=dtype,\n",
      "/home/billy/.local/lib/python3.10/site-packages/numpy/core/_methods.py:190: RuntimeWarning: invalid value encountered in double_scalars\n",
      "  ret = ret.dtype.type(ret / rcount)\n"
     ]
    },
    {
     "name": "stdout",
     "output_type": "stream",
     "text": [
      "                 price\n",
      "date                  \n",
      "2023-01-01  409.615385\n",
      "2023-01-02  415.846154\n",
      "2023-01-03  319.692308\n",
      "2023-01-04  368.307692\n",
      "2023-01-05  404.000000\n",
      "...                ...\n",
      "2023-12-27         NaN\n",
      "2023-12-28         NaN\n",
      "2023-12-29         NaN\n",
      "2023-12-30         NaN\n",
      "2023-12-31         NaN\n",
      "\n",
      "[365 rows x 1 columns]\n"
     ]
    }
   ],
   "source": [
    "# initialize chrome driver\n",
    "driver = webdriver.Chrome()\n",
    "\n",
    "\n",
    "def get_avg_price_by_date(date):\n",
    "    # create url from search parameters\n",
    "    url = \"https://skiplagged.com/flights/YTO/LON/\" + date\n",
    "    # initialize browser with url\n",
    "    driver.get(url)\n",
    "    # sleep to load dynamic content\n",
    "    time.sleep(8)\n",
    "    # create soup\n",
    "    soup = BeautifulSoup(driver.page_source, 'html.parser')\n",
    "    # select prices and clean text to float data list\n",
    "    prices = soup.select(\"[data-orig-price]\")\n",
    "    prices = [float(price.get_text()[1:]) for price in prices]\n",
    "    return np.mean(prices)\n",
    "\n",
    "data = {\n",
    "\t\"date\": [],\n",
    "\t\"price\": []\n",
    "}\n",
    "\n",
    "date_range = pd.date_range(start='2023-01-01', end='2023-12-31')\n",
    "for date in date_range:\n",
    "\tdate = date.strftime(\"%Y-%m-%d\")\n",
    "\tavg_price = get_avg_price_by_date(date)\n",
    "\tdata[\"date\"].append(date)\n",
    "\tdata[\"price\"].append(avg_price)\n",
    "\n",
    "price_by_date = pd.DataFrame(data)\n",
    "price_by_date.set_index(\"date\", inplace=True)\n",
    "\n",
    "price_by_date.to_csv(\"./data/\" + datetime.now().strftime(\"%m-%d-%Y_%H:%M:%S\") + '.csv')\n",
    "print(price_by_date)\n",
    "\n",
    "# close driver\n",
    "driver.quit()\n"
   ]
  }
 ],
 "metadata": {
  "kernelspec": {
   "display_name": "Python 3",
   "language": "python",
   "name": "python3"
  },
  "language_info": {
   "codemirror_mode": {
    "name": "ipython",
    "version": 3
   },
   "file_extension": ".py",
   "mimetype": "text/x-python",
   "name": "python",
   "nbconvert_exporter": "python",
   "pygments_lexer": "ipython3",
   "version": "3.10.8"
  },
  "orig_nbformat": 4,
  "vscode": {
   "interpreter": {
    "hash": "e7370f93d1d0cde622a1f8e1c04877d8463912d04d973331ad4851f04de6915a"
   }
  }
 },
 "nbformat": 4,
 "nbformat_minor": 2
}
