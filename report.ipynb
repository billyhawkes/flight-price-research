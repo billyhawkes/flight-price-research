{
 "cells": [
  {
   "cell_type": "code",
   "execution_count": 43,
   "metadata": {},
   "outputs": [],
   "source": [
    "# Importing the necessary libraries\n",
    "from bs4 import BeautifulSoup\n",
    "import requests\n",
    "import time\n",
    "import datetime\n",
    "from selenium import webdriver\n",
    "from selenium.webdriver.common.by import By\n",
    "from selenium.webdriver.support.ui import WebDriverWait\n",
    "from selenium.webdriver.support import expected_conditions as EC\n",
    "import pandas as pd\n"
   ]
  },
  {
   "cell_type": "code",
   "execution_count": 60,
   "metadata": {},
   "outputs": [
    {
     "name": "stdout",
     "output_type": "stream",
     "text": [
      "[224.0, 270.0, 270.0, 270.0, 270.0, 270.0, 270.0, 364.0, 365.0, 365.0, 365.0, 365.0, 365.0]\n"
     ]
    }
   ],
   "source": [
    "driver = webdriver.Chrome()\n",
    "\n",
    "\n",
    "def get_price_by_date(date):\n",
    "    # create url from search parameters\n",
    "    url = \"https://skiplagged.com/flights/YTO/LON/\" + date\n",
    "    driver.get(url)\n",
    "    time.sleep(8)\n",
    "    soup = BeautifulSoup(driver.page_source, 'html.parser')\n",
    "    prices = soup.select(\"[data-orig-price]\")\n",
    "    prices = [float(price.get_text()[1:]) for price in prices]\n",
    "    return prices\n",
    "\n",
    "\n",
    "list_prices = get_price_by_date(\"2023-02-03\")\n",
    "print(list_prices)\n",
    "\n",
    "driver.quit()\n"
   ]
  }
 ],
 "metadata": {
  "kernelspec": {
   "display_name": "Python 3",
   "language": "python",
   "name": "python3"
  },
  "language_info": {
   "codemirror_mode": {
    "name": "ipython",
    "version": 3
   },
   "file_extension": ".py",
   "mimetype": "text/x-python",
   "name": "python",
   "nbconvert_exporter": "python",
   "pygments_lexer": "ipython3",
   "version": "3.10.8"
  },
  "orig_nbformat": 4,
  "vscode": {
   "interpreter": {
    "hash": "e7370f93d1d0cde622a1f8e1c04877d8463912d04d973331ad4851f04de6915a"
   }
  }
 },
 "nbformat": 4,
 "nbformat_minor": 2
}
